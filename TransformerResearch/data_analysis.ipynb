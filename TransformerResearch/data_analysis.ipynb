{
 "cells": [
  {
   "cell_type": "code",
   "execution_count": 2,
   "metadata": {},
   "outputs": [],
   "source": [
    "import pandas as pd\n",
    "import numpy as np\n",
    "import seaborn as sns\n",
    "import re"
   ]
  },
  {
   "cell_type": "markdown",
   "metadata": {},
   "source": [
    "## Data preparation"
   ]
  },
  {
   "cell_type": "code",
   "execution_count": 7,
   "metadata": {},
   "outputs": [],
   "source": [
    "# Read the train from the CSV file\n",
    "\n",
    "train = pd.read_csv('data/train.csv', index_col=0)\n",
    "test = pd.read_csv('data/test.csv', index_col=0)"
   ]
  },
  {
   "cell_type": "code",
   "execution_count": 9,
   "metadata": {},
   "outputs": [
    {
     "data": {
      "text/html": [
       "<div>\n",
       "<style scoped>\n",
       "    .dataframe tbody tr th:only-of-type {\n",
       "        vertical-align: middle;\n",
       "    }\n",
       "\n",
       "    .dataframe tbody tr th {\n",
       "        vertical-align: top;\n",
       "    }\n",
       "\n",
       "    .dataframe thead th {\n",
       "        text-align: right;\n",
       "    }\n",
       "</style>\n",
       "<table border=\"1\" class=\"dataframe\">\n",
       "  <thead>\n",
       "    <tr style=\"text-align: right;\">\n",
       "      <th></th>\n",
       "      <th>art_id</th>\n",
       "      <th>keyword</th>\n",
       "      <th>country_code</th>\n",
       "      <th>text</th>\n",
       "      <th>label</th>\n",
       "      <th>par_id</th>\n",
       "      <th>category_label</th>\n",
       "    </tr>\n",
       "  </thead>\n",
       "  <tbody>\n",
       "    <tr>\n",
       "      <th>794</th>\n",
       "      <td>@@24942188</td>\n",
       "      <td>hopeless</td>\n",
       "      <td>ph</td>\n",
       "      <td>We 're living in times of absolute insanity , ...</td>\n",
       "      <td>0</td>\n",
       "      <td>1</td>\n",
       "      <td>[0, 0, 0, 0, 0, 0, 0]</td>\n",
       "    </tr>\n",
       "    <tr>\n",
       "      <th>795</th>\n",
       "      <td>@@21968160</td>\n",
       "      <td>migrant</td>\n",
       "      <td>gh</td>\n",
       "      <td>In Libya today , there are countless number of...</td>\n",
       "      <td>0</td>\n",
       "      <td>2</td>\n",
       "      <td>[0, 0, 0, 0, 0, 0, 0]</td>\n",
       "    </tr>\n",
       "    <tr>\n",
       "      <th>796</th>\n",
       "      <td>@@16584954</td>\n",
       "      <td>immigrant</td>\n",
       "      <td>ie</td>\n",
       "      <td>White House press secretary Sean Spicer said t...</td>\n",
       "      <td>0</td>\n",
       "      <td>3</td>\n",
       "      <td>[0, 0, 0, 0, 0, 0, 0]</td>\n",
       "    </tr>\n",
       "    <tr>\n",
       "      <th>797</th>\n",
       "      <td>@@7811231</td>\n",
       "      <td>disabled</td>\n",
       "      <td>nz</td>\n",
       "      <td>Council customers only signs would be displaye...</td>\n",
       "      <td>0</td>\n",
       "      <td>4</td>\n",
       "      <td>[0, 0, 0, 0, 0, 0, 0]</td>\n",
       "    </tr>\n",
       "    <tr>\n",
       "      <th>798</th>\n",
       "      <td>@@1494111</td>\n",
       "      <td>refugee</td>\n",
       "      <td>ca</td>\n",
       "      <td>\" Just like we received migrants fleeing El Sa...</td>\n",
       "      <td>0</td>\n",
       "      <td>5</td>\n",
       "      <td>[0, 0, 0, 0, 0, 0, 0]</td>\n",
       "    </tr>\n",
       "    <tr>\n",
       "      <th>...</th>\n",
       "      <td>...</td>\n",
       "      <td>...</td>\n",
       "      <td>...</td>\n",
       "      <td>...</td>\n",
       "      <td>...</td>\n",
       "      <td>...</td>\n",
       "      <td>...</td>\n",
       "    </tr>\n",
       "    <tr>\n",
       "      <th>41</th>\n",
       "      <td>@@4665292</td>\n",
       "      <td>women</td>\n",
       "      <td>jm</td>\n",
       "      <td>\" I do n't believe in abortion , I think it is...</td>\n",
       "      <td>1</td>\n",
       "      <td>10424</td>\n",
       "      <td>[1, 0, 0, 1, 0, 0, 0]</td>\n",
       "    </tr>\n",
       "    <tr>\n",
       "      <th>728</th>\n",
       "      <td>@@3923193</td>\n",
       "      <td>refugee</td>\n",
       "      <td>gb</td>\n",
       "      <td>More than 150 volunteers spent the night in ' ...</td>\n",
       "      <td>1</td>\n",
       "      <td>10445</td>\n",
       "      <td>[0, 1, 0, 0, 0, 0, 0]</td>\n",
       "    </tr>\n",
       "    <tr>\n",
       "      <th>609</th>\n",
       "      <td>@@22338535</td>\n",
       "      <td>vulnerable</td>\n",
       "      <td>ie</td>\n",
       "      <td>\" We are challenged , I suggest , to turn this...</td>\n",
       "      <td>1</td>\n",
       "      <td>10454</td>\n",
       "      <td>[1, 1, 0, 0, 1, 1, 0]</td>\n",
       "    </tr>\n",
       "    <tr>\n",
       "      <th>26</th>\n",
       "      <td>@@20282330</td>\n",
       "      <td>in-need</td>\n",
       "      <td>ng</td>\n",
       "      <td>\" She has one huge platform , and information ...</td>\n",
       "      <td>1</td>\n",
       "      <td>10467</td>\n",
       "      <td>[1, 0, 0, 0, 0, 0, 0]</td>\n",
       "    </tr>\n",
       "    <tr>\n",
       "      <th>531</th>\n",
       "      <td>@@16779383</td>\n",
       "      <td>homeless</td>\n",
       "      <td>ie</td>\n",
       "      <td>\" Guinness World Record of 540lbs of 7-layer m...</td>\n",
       "      <td>1</td>\n",
       "      <td>10469</td>\n",
       "      <td>[1, 0, 0, 0, 0, 0, 0]</td>\n",
       "    </tr>\n",
       "  </tbody>\n",
       "</table>\n",
       "<p>8375 rows × 7 columns</p>\n",
       "</div>"
      ],
      "text/plain": [
       "         art_id     keyword country_code  \\\n",
       "794  @@24942188    hopeless           ph   \n",
       "795  @@21968160     migrant           gh   \n",
       "796  @@16584954   immigrant           ie   \n",
       "797   @@7811231    disabled           nz   \n",
       "798   @@1494111     refugee           ca   \n",
       "..          ...         ...          ...   \n",
       "41    @@4665292       women           jm   \n",
       "728   @@3923193     refugee           gb   \n",
       "609  @@22338535  vulnerable           ie   \n",
       "26   @@20282330     in-need           ng   \n",
       "531  @@16779383    homeless           ie   \n",
       "\n",
       "                                                  text  label  par_id  \\\n",
       "794  We 're living in times of absolute insanity , ...      0       1   \n",
       "795  In Libya today , there are countless number of...      0       2   \n",
       "796  White House press secretary Sean Spicer said t...      0       3   \n",
       "797  Council customers only signs would be displaye...      0       4   \n",
       "798  \" Just like we received migrants fleeing El Sa...      0       5   \n",
       "..                                                 ...    ...     ...   \n",
       "41   \" I do n't believe in abortion , I think it is...      1   10424   \n",
       "728  More than 150 volunteers spent the night in ' ...      1   10445   \n",
       "609  \" We are challenged , I suggest , to turn this...      1   10454   \n",
       "26   \" She has one huge platform , and information ...      1   10467   \n",
       "531  \" Guinness World Record of 540lbs of 7-layer m...      1   10469   \n",
       "\n",
       "            category_label  \n",
       "794  [0, 0, 0, 0, 0, 0, 0]  \n",
       "795  [0, 0, 0, 0, 0, 0, 0]  \n",
       "796  [0, 0, 0, 0, 0, 0, 0]  \n",
       "797  [0, 0, 0, 0, 0, 0, 0]  \n",
       "798  [0, 0, 0, 0, 0, 0, 0]  \n",
       "..                     ...  \n",
       "41   [1, 0, 0, 1, 0, 0, 0]  \n",
       "728  [0, 1, 0, 0, 0, 0, 0]  \n",
       "609  [1, 1, 0, 0, 1, 1, 0]  \n",
       "26   [1, 0, 0, 0, 0, 0, 0]  \n",
       "531  [1, 0, 0, 0, 0, 0, 0]  \n",
       "\n",
       "[8375 rows x 7 columns]"
      ]
     },
     "execution_count": 9,
     "metadata": {},
     "output_type": "execute_result"
    }
   ],
   "source": [
    "train"
   ]
  },
  {
   "cell_type": "markdown",
   "metadata": {},
   "source": [
    "## Data Analysis"
   ]
  },
  {
   "cell_type": "markdown",
   "metadata": {},
   "source": [
    "#### InputLength-Label"
   ]
  },
  {
   "cell_type": "code",
   "execution_count": 10,
   "metadata": {},
   "outputs": [],
   "source": [
    "# Count the number of words in the text feature\n",
    "length = train['text'].fillna('').astype(str).apply(lambda x: len(x.split()))"
   ]
  },
  {
   "cell_type": "code",
   "execution_count": 11,
   "metadata": {},
   "outputs": [
    {
     "data": {
      "text/html": [
       "<div>\n",
       "<style scoped>\n",
       "    .dataframe tbody tr th:only-of-type {\n",
       "        vertical-align: middle;\n",
       "    }\n",
       "\n",
       "    .dataframe tbody tr th {\n",
       "        vertical-align: top;\n",
       "    }\n",
       "\n",
       "    .dataframe thead th {\n",
       "        text-align: right;\n",
       "    }\n",
       "</style>\n",
       "<table border=\"1\" class=\"dataframe\">\n",
       "  <thead>\n",
       "    <tr style=\"text-align: right;\">\n",
       "      <th></th>\n",
       "      <th>text</th>\n",
       "      <th>label</th>\n",
       "    </tr>\n",
       "  </thead>\n",
       "  <tbody>\n",
       "    <tr>\n",
       "      <th>794</th>\n",
       "      <td>123</td>\n",
       "      <td>0</td>\n",
       "    </tr>\n",
       "    <tr>\n",
       "      <th>795</th>\n",
       "      <td>41</td>\n",
       "      <td>0</td>\n",
       "    </tr>\n",
       "    <tr>\n",
       "      <th>796</th>\n",
       "      <td>27</td>\n",
       "      <td>0</td>\n",
       "    </tr>\n",
       "    <tr>\n",
       "      <th>797</th>\n",
       "      <td>30</td>\n",
       "      <td>0</td>\n",
       "    </tr>\n",
       "    <tr>\n",
       "      <th>798</th>\n",
       "      <td>53</td>\n",
       "      <td>0</td>\n",
       "    </tr>\n",
       "    <tr>\n",
       "      <th>...</th>\n",
       "      <td>...</td>\n",
       "      <td>...</td>\n",
       "    </tr>\n",
       "    <tr>\n",
       "      <th>41</th>\n",
       "      <td>31</td>\n",
       "      <td>1</td>\n",
       "    </tr>\n",
       "    <tr>\n",
       "      <th>728</th>\n",
       "      <td>21</td>\n",
       "      <td>1</td>\n",
       "    </tr>\n",
       "    <tr>\n",
       "      <th>609</th>\n",
       "      <td>48</td>\n",
       "      <td>1</td>\n",
       "    </tr>\n",
       "    <tr>\n",
       "      <th>26</th>\n",
       "      <td>58</td>\n",
       "      <td>1</td>\n",
       "    </tr>\n",
       "    <tr>\n",
       "      <th>531</th>\n",
       "      <td>32</td>\n",
       "      <td>1</td>\n",
       "    </tr>\n",
       "  </tbody>\n",
       "</table>\n",
       "<p>8375 rows × 2 columns</p>\n",
       "</div>"
      ],
      "text/plain": [
       "     text  label\n",
       "794   123      0\n",
       "795    41      0\n",
       "796    27      0\n",
       "797    30      0\n",
       "798    53      0\n",
       "..    ...    ...\n",
       "41     31      1\n",
       "728    21      1\n",
       "609    48      1\n",
       "26     58      1\n",
       "531    32      1\n",
       "\n",
       "[8375 rows x 2 columns]"
      ]
     },
     "execution_count": 11,
     "metadata": {},
     "output_type": "execute_result"
    }
   ],
   "source": [
    "# Merge with labels from the original trainset using id\n",
    "\n",
    "length_corr = pd.merge(length, train['label'], left_index=True, right_index=True)\n",
    "length_corr"
   ]
  },
  {
   "cell_type": "code",
   "execution_count": 12,
   "metadata": {},
   "outputs": [
    {
     "data": {
      "text/html": [
       "<div>\n",
       "<style scoped>\n",
       "    .dataframe tbody tr th:only-of-type {\n",
       "        vertical-align: middle;\n",
       "    }\n",
       "\n",
       "    .dataframe tbody tr th {\n",
       "        vertical-align: top;\n",
       "    }\n",
       "\n",
       "    .dataframe thead th {\n",
       "        text-align: right;\n",
       "    }\n",
       "</style>\n",
       "<table border=\"1\" class=\"dataframe\">\n",
       "  <thead>\n",
       "    <tr style=\"text-align: right;\">\n",
       "      <th></th>\n",
       "      <th>text</th>\n",
       "      <th>label</th>\n",
       "    </tr>\n",
       "  </thead>\n",
       "  <tbody>\n",
       "    <tr>\n",
       "      <th>text</th>\n",
       "      <td>1.000000</td>\n",
       "      <td>0.052849</td>\n",
       "    </tr>\n",
       "    <tr>\n",
       "      <th>label</th>\n",
       "      <td>0.052849</td>\n",
       "      <td>1.000000</td>\n",
       "    </tr>\n",
       "  </tbody>\n",
       "</table>\n",
       "</div>"
      ],
      "text/plain": [
       "           text     label\n",
       "text   1.000000  0.052849\n",
       "label  0.052849  1.000000"
      ]
     },
     "execution_count": 12,
     "metadata": {},
     "output_type": "execute_result"
    }
   ],
   "source": [
    "# Calculate the correlation of count of words with the label\n",
    "\n",
    "length_corr.corr()"
   ]
  },
  {
   "cell_type": "code",
   "execution_count": 13,
   "metadata": {},
   "outputs": [
    {
     "data": {
      "image/png": "[encoded data removed]",
      "text/plain": [
       "<Figure size 432x288 with 1 Axes>"
      ]
     },
     "metadata": {
      "needs_background": "light"
     },
     "output_type": "display_data"
    }
   ],
   "source": [
    "# Plot the scatter plot of length_corr of the text feature and the label\n",
    "\n",
    "import matplotlib.pyplot as plt\n",
    "\n",
    "plt.scatter(length_corr['text'], length_corr['label'])\n",
    "plt.xlabel('Number of words in the text')\n",
    "plt.ylabel('Label')\n",
    "plt.title('Number of words in the text vs label')\n",
    "plt.show()\n",
    "\n"
   ]
  },
  {
   "cell_type": "markdown",
   "metadata": {},
   "source": [
    "NOT CORRELATED"
   ]
  },
  {
   "cell_type": "markdown",
   "metadata": {},
   "source": [
    "#### UniqueWords"
   ]
  },
  {
   "cell_type": "code",
   "execution_count": 14,
   "metadata": {},
   "outputs": [],
   "source": [
    "# Count the number of unique words in the text feature\n",
    "\n",
    "unique = train['text'].fillna('').astype(str).apply(lambda x: len(set(x.split())))\n",
    "unique_corr = pd.merge(unique, train['label'], left_index=True, right_index=True)"
   ]
  },
  {
   "cell_type": "code",
   "execution_count": 15,
   "metadata": {},
   "outputs": [
    {
     "data": {
      "text/html": [
       "<div>\n",
       "<style scoped>\n",
       "    .dataframe tbody tr th:only-of-type {\n",
       "        vertical-align: middle;\n",
       "    }\n",
       "\n",
       "    .dataframe tbody tr th {\n",
       "        vertical-align: top;\n",
       "    }\n",
       "\n",
       "    .dataframe thead th {\n",
       "        text-align: right;\n",
       "    }\n",
       "</style>\n",
       "<table border=\"1\" class=\"dataframe\">\n",
       "  <thead>\n",
       "    <tr style=\"text-align: right;\">\n",
       "      <th></th>\n",
       "      <th>text</th>\n",
       "      <th>label</th>\n",
       "    </tr>\n",
       "  </thead>\n",
       "  <tbody>\n",
       "    <tr>\n",
       "      <th>text</th>\n",
       "      <td>1.000000</td>\n",
       "      <td>0.048435</td>\n",
       "    </tr>\n",
       "    <tr>\n",
       "      <th>label</th>\n",
       "      <td>0.048435</td>\n",
       "      <td>1.000000</td>\n",
       "    </tr>\n",
       "  </tbody>\n",
       "</table>\n",
       "</div>"
      ],
      "text/plain": [
       "           text     label\n",
       "text   1.000000  0.048435\n",
       "label  0.048435  1.000000"
      ]
     },
     "execution_count": 15,
     "metadata": {},
     "output_type": "execute_result"
    }
   ],
   "source": [
    "unique_corr.corr() # Calculate the correlation of count of unique words with the label"
   ]
  },
  {
   "cell_type": "markdown",
   "metadata": {},
   "source": [
    "#### Keyword-Label"
   ]
  },
  {
   "cell_type": "code",
   "execution_count": 16,
   "metadata": {},
   "outputs": [],
   "source": [
    "keywords = train.groupby(['keyword', 'label']).size().reset_index(name='count')"
   ]
  },
  {
   "cell_type": "code",
   "execution_count": 17,
   "metadata": {},
   "outputs": [
    {
     "data": {
      "text/html": [
       "<div>\n",
       "<style scoped>\n",
       "    .dataframe tbody tr th:only-of-type {\n",
       "        vertical-align: middle;\n",
       "    }\n",
       "\n",
       "    .dataframe tbody tr th {\n",
       "        vertical-align: top;\n",
       "    }\n",
       "\n",
       "    .dataframe thead th {\n",
       "        text-align: right;\n",
       "    }\n",
       "</style>\n",
       "<table border=\"1\" class=\"dataframe\">\n",
       "  <thead>\n",
       "    <tr style=\"text-align: right;\">\n",
       "      <th></th>\n",
       "      <th>keyword</th>\n",
       "      <th>label</th>\n",
       "      <th>count</th>\n",
       "    </tr>\n",
       "  </thead>\n",
       "  <tbody>\n",
       "    <tr>\n",
       "      <th>0</th>\n",
       "      <td>disabled</td>\n",
       "      <td>0</td>\n",
       "      <td>767</td>\n",
       "    </tr>\n",
       "    <tr>\n",
       "      <th>1</th>\n",
       "      <td>disabled</td>\n",
       "      <td>1</td>\n",
       "      <td>67</td>\n",
       "    </tr>\n",
       "    <tr>\n",
       "      <th>2</th>\n",
       "      <td>homeless</td>\n",
       "      <td>0</td>\n",
       "      <td>716</td>\n",
       "    </tr>\n",
       "    <tr>\n",
       "      <th>3</th>\n",
       "      <td>homeless</td>\n",
       "      <td>1</td>\n",
       "      <td>149</td>\n",
       "    </tr>\n",
       "    <tr>\n",
       "      <th>4</th>\n",
       "      <td>hopeless</td>\n",
       "      <td>0</td>\n",
       "      <td>690</td>\n",
       "    </tr>\n",
       "    <tr>\n",
       "      <th>5</th>\n",
       "      <td>hopeless</td>\n",
       "      <td>1</td>\n",
       "      <td>98</td>\n",
       "    </tr>\n",
       "    <tr>\n",
       "      <th>6</th>\n",
       "      <td>immigrant</td>\n",
       "      <td>0</td>\n",
       "      <td>820</td>\n",
       "    </tr>\n",
       "    <tr>\n",
       "      <th>7</th>\n",
       "      <td>immigrant</td>\n",
       "      <td>1</td>\n",
       "      <td>23</td>\n",
       "    </tr>\n",
       "    <tr>\n",
       "      <th>8</th>\n",
       "      <td>in-need</td>\n",
       "      <td>0</td>\n",
       "      <td>713</td>\n",
       "    </tr>\n",
       "    <tr>\n",
       "      <th>9</th>\n",
       "      <td>in-need</td>\n",
       "      <td>1</td>\n",
       "      <td>143</td>\n",
       "    </tr>\n",
       "    <tr>\n",
       "      <th>10</th>\n",
       "      <td>migrant</td>\n",
       "      <td>0</td>\n",
       "      <td>851</td>\n",
       "    </tr>\n",
       "    <tr>\n",
       "      <th>11</th>\n",
       "      <td>migrant</td>\n",
       "      <td>1</td>\n",
       "      <td>31</td>\n",
       "    </tr>\n",
       "    <tr>\n",
       "      <th>12</th>\n",
       "      <td>poor-families</td>\n",
       "      <td>0</td>\n",
       "      <td>607</td>\n",
       "    </tr>\n",
       "    <tr>\n",
       "      <th>13</th>\n",
       "      <td>poor-families</td>\n",
       "      <td>1</td>\n",
       "      <td>112</td>\n",
       "    </tr>\n",
       "    <tr>\n",
       "      <th>14</th>\n",
       "      <td>refugee</td>\n",
       "      <td>0</td>\n",
       "      <td>807</td>\n",
       "    </tr>\n",
       "    <tr>\n",
       "      <th>15</th>\n",
       "      <td>refugee</td>\n",
       "      <td>1</td>\n",
       "      <td>73</td>\n",
       "    </tr>\n",
       "    <tr>\n",
       "      <th>16</th>\n",
       "      <td>vulnerable</td>\n",
       "      <td>0</td>\n",
       "      <td>811</td>\n",
       "    </tr>\n",
       "    <tr>\n",
       "      <th>17</th>\n",
       "      <td>vulnerable</td>\n",
       "      <td>1</td>\n",
       "      <td>60</td>\n",
       "    </tr>\n",
       "    <tr>\n",
       "      <th>18</th>\n",
       "      <td>women</td>\n",
       "      <td>0</td>\n",
       "      <td>799</td>\n",
       "    </tr>\n",
       "    <tr>\n",
       "      <th>19</th>\n",
       "      <td>women</td>\n",
       "      <td>1</td>\n",
       "      <td>38</td>\n",
       "    </tr>\n",
       "  </tbody>\n",
       "</table>\n",
       "</div>"
      ],
      "text/plain": [
       "          keyword  label  count\n",
       "0        disabled      0    767\n",
       "1        disabled      1     67\n",
       "2        homeless      0    716\n",
       "3        homeless      1    149\n",
       "4        hopeless      0    690\n",
       "5        hopeless      1     98\n",
       "6       immigrant      0    820\n",
       "7       immigrant      1     23\n",
       "8         in-need      0    713\n",
       "9         in-need      1    143\n",
       "10        migrant      0    851\n",
       "11        migrant      1     31\n",
       "12  poor-families      0    607\n",
       "13  poor-families      1    112\n",
       "14        refugee      0    807\n",
       "15        refugee      1     73\n",
       "16     vulnerable      0    811\n",
       "17     vulnerable      1     60\n",
       "18          women      0    799\n",
       "19          women      1     38"
      ]
     },
     "execution_count": 17,
     "metadata": {},
     "output_type": "execute_result"
    }
   ],
   "source": [
    "keywords"
   ]
  },
  {
   "cell_type": "code",
   "execution_count": 18,
   "metadata": {},
   "outputs": [
    {
     "data": {
      "text/html": [
       "<div>\n",
       "<style scoped>\n",
       "    .dataframe tbody tr th:only-of-type {\n",
       "        vertical-align: middle;\n",
       "    }\n",
       "\n",
       "    .dataframe tbody tr th {\n",
       "        vertical-align: top;\n",
       "    }\n",
       "\n",
       "    .dataframe thead th {\n",
       "        text-align: right;\n",
       "    }\n",
       "</style>\n",
       "<table border=\"1\" class=\"dataframe\">\n",
       "  <thead>\n",
       "    <tr style=\"text-align: right;\">\n",
       "      <th>label</th>\n",
       "      <th>0</th>\n",
       "      <th>1</th>\n",
       "      <th>correlation</th>\n",
       "    </tr>\n",
       "    <tr>\n",
       "      <th>keyword</th>\n",
       "      <th></th>\n",
       "      <th></th>\n",
       "      <th></th>\n",
       "    </tr>\n",
       "  </thead>\n",
       "  <tbody>\n",
       "    <tr>\n",
       "      <th>disabled</th>\n",
       "      <td>767</td>\n",
       "      <td>67</td>\n",
       "      <td>0.080336</td>\n",
       "    </tr>\n",
       "    <tr>\n",
       "      <th>homeless</th>\n",
       "      <td>716</td>\n",
       "      <td>149</td>\n",
       "      <td>0.172254</td>\n",
       "    </tr>\n",
       "    <tr>\n",
       "      <th>hopeless</th>\n",
       "      <td>690</td>\n",
       "      <td>98</td>\n",
       "      <td>0.124365</td>\n",
       "    </tr>\n",
       "    <tr>\n",
       "      <th>immigrant</th>\n",
       "      <td>820</td>\n",
       "      <td>23</td>\n",
       "      <td>0.027284</td>\n",
       "    </tr>\n",
       "    <tr>\n",
       "      <th>in-need</th>\n",
       "      <td>713</td>\n",
       "      <td>143</td>\n",
       "      <td>0.167056</td>\n",
       "    </tr>\n",
       "    <tr>\n",
       "      <th>migrant</th>\n",
       "      <td>851</td>\n",
       "      <td>31</td>\n",
       "      <td>0.035147</td>\n",
       "    </tr>\n",
       "    <tr>\n",
       "      <th>poor-families</th>\n",
       "      <td>607</td>\n",
       "      <td>112</td>\n",
       "      <td>0.155772</td>\n",
       "    </tr>\n",
       "    <tr>\n",
       "      <th>refugee</th>\n",
       "      <td>807</td>\n",
       "      <td>73</td>\n",
       "      <td>0.082955</td>\n",
       "    </tr>\n",
       "    <tr>\n",
       "      <th>vulnerable</th>\n",
       "      <td>811</td>\n",
       "      <td>60</td>\n",
       "      <td>0.068886</td>\n",
       "    </tr>\n",
       "    <tr>\n",
       "      <th>women</th>\n",
       "      <td>799</td>\n",
       "      <td>38</td>\n",
       "      <td>0.045400</td>\n",
       "    </tr>\n",
       "  </tbody>\n",
       "</table>\n",
       "</div>"
      ],
      "text/plain": [
       "label            0    1  correlation\n",
       "keyword                             \n",
       "disabled       767   67     0.080336\n",
       "homeless       716  149     0.172254\n",
       "hopeless       690   98     0.124365\n",
       "immigrant      820   23     0.027284\n",
       "in-need        713  143     0.167056\n",
       "migrant        851   31     0.035147\n",
       "poor-families  607  112     0.155772\n",
       "refugee        807   73     0.082955\n",
       "vulnerable     811   60     0.068886\n",
       "women          799   38     0.045400"
      ]
     },
     "execution_count": 18,
     "metadata": {},
     "output_type": "execute_result"
    }
   ],
   "source": [
    "# Compute the correlation for every pair in the keyword\n",
    "\n",
    "keywords_corr = keywords.pivot(index='keyword', columns='label', values='count').fillna(0)\n",
    "keywords_corr['correlation'] = keywords_corr[1] / (keywords_corr[0] + keywords_corr[1])\n",
    "keywords_corr\n"
   ]
  },
  {
   "cell_type": "markdown",
   "metadata": {},
   "source": [
    "NOT CORRELATED"
   ]
  },
  {
   "cell_type": "markdown",
   "metadata": {},
   "source": [
    "#### Number of upper cases"
   ]
  },
  {
   "cell_type": "code",
   "execution_count": null,
   "metadata": {},
   "outputs": [
    {
     "data": {
      "text/plain": [
       "par_id\n",
       "1         4\n",
       "2         7\n",
       "3         4\n",
       "4         4\n",
       "5         9\n",
       "         ..\n",
       "10465     4\n",
       "10466     7\n",
       "10467     3\n",
       "10468    15\n",
       "10469     9\n",
       "Name: text, Length: 10469, dtype: int64"
      ]
     },
     "execution_count": 48,
     "metadata": {},
     "output_type": "execute_result"
    }
   ],
   "source": [
    "# Compute the number of upper cases in the text feature\n",
    "\n",
    "upper = train['text'].fillna('').astype(str).apply(lambda x: sum(1 for c in x if c.isupper()))\n",
    "upper"
   ]
  },
  {
   "cell_type": "code",
   "execution_count": null,
   "metadata": {},
   "outputs": [],
   "source": [
    "joined = pd.merge(upper, train['label'], left_index=True, right_index=True)"
   ]
  },
  {
   "cell_type": "code",
   "execution_count": null,
   "metadata": {},
   "outputs": [
    {
     "data": {
      "text/html": [
       "<div>\n",
       "<style scoped>\n",
       "    .dataframe tbody tr th:only-of-type {\n",
       "        vertical-align: middle;\n",
       "    }\n",
       "\n",
       "    .dataframe tbody tr th {\n",
       "        vertical-align: top;\n",
       "    }\n",
       "\n",
       "    .dataframe thead th {\n",
       "        text-align: right;\n",
       "    }\n",
       "</style>\n",
       "<table border=\"1\" class=\"dataframe\">\n",
       "  <thead>\n",
       "    <tr style=\"text-align: right;\">\n",
       "      <th></th>\n",
       "      <th>text</th>\n",
       "      <th>label</th>\n",
       "    </tr>\n",
       "  </thead>\n",
       "  <tbody>\n",
       "    <tr>\n",
       "      <th>text</th>\n",
       "      <td>1.00000</td>\n",
       "      <td>-0.00663</td>\n",
       "    </tr>\n",
       "    <tr>\n",
       "      <th>label</th>\n",
       "      <td>-0.00663</td>\n",
       "      <td>1.00000</td>\n",
       "    </tr>\n",
       "  </tbody>\n",
       "</table>\n",
       "</div>"
      ],
      "text/plain": [
       "          text    label\n",
       "text   1.00000 -0.00663\n",
       "label -0.00663  1.00000"
      ]
     },
     "execution_count": 50,
     "metadata": {},
     "output_type": "execute_result"
    }
   ],
   "source": [
    "joined.corr()"
   ]
  },
  {
   "cell_type": "markdown",
   "metadata": {},
   "source": [
    "NOT CORRELATED"
   ]
  },
  {
   "cell_type": "markdown",
   "metadata": {},
   "source": [
    "#### Specific words"
   ]
  },
  {
   "cell_type": "code",
   "execution_count": null,
   "metadata": {},
   "outputs": [],
   "source": [
    "words = ['us', 'they', 'must', 'help']"
   ]
  },
  {
   "cell_type": "code",
   "execution_count": null,
   "metadata": {},
   "outputs": [
    {
     "data": {
      "text/plain": [
       "par_id\n",
       "1        1\n",
       "2        0\n",
       "3        0\n",
       "4        0\n",
       "5        0\n",
       "        ..\n",
       "10465    0\n",
       "10466    0\n",
       "10467    1\n",
       "10468    0\n",
       "10469    0\n",
       "Name: text, Length: 10469, dtype: int64"
      ]
     },
     "execution_count": 61,
     "metadata": {},
     "output_type": "execute_result"
    }
   ],
   "source": [
    "found_words = train['text'].fillna('').astype(str).apply(lambda x: sum(1 for word in words if re.search(r'\\b' + word + r'\\b', x)))\n",
    "found_words"
   ]
  },
  {
   "cell_type": "code",
   "execution_count": null,
   "metadata": {},
   "outputs": [
    {
     "data": {
      "text/plain": [
       "0    8481\n",
       "1    1793\n",
       "2     187\n",
       "3       8\n",
       "Name: text, dtype: int64"
      ]
     },
     "execution_count": 64,
     "metadata": {},
     "output_type": "execute_result"
    }
   ],
   "source": [
    "# Count how many 2 are in the series fund_words\n",
    "\n",
    "found_words.value_counts()"
   ]
  },
  {
   "cell_type": "code",
   "execution_count": null,
   "metadata": {},
   "outputs": [
    {
     "data": {
      "text/html": [
       "<div>\n",
       "<style scoped>\n",
       "    .dataframe tbody tr th:only-of-type {\n",
       "        vertical-align: middle;\n",
       "    }\n",
       "\n",
       "    .dataframe tbody tr th {\n",
       "        vertical-align: top;\n",
       "    }\n",
       "\n",
       "    .dataframe thead th {\n",
       "        text-align: right;\n",
       "    }\n",
       "</style>\n",
       "<table border=\"1\" class=\"dataframe\">\n",
       "  <thead>\n",
       "    <tr style=\"text-align: right;\">\n",
       "      <th></th>\n",
       "      <th>text</th>\n",
       "      <th>label</th>\n",
       "    </tr>\n",
       "  </thead>\n",
       "  <tbody>\n",
       "    <tr>\n",
       "      <th>text</th>\n",
       "      <td>1.000000</td>\n",
       "      <td>0.115108</td>\n",
       "    </tr>\n",
       "    <tr>\n",
       "      <th>label</th>\n",
       "      <td>0.115108</td>\n",
       "      <td>1.000000</td>\n",
       "    </tr>\n",
       "  </tbody>\n",
       "</table>\n",
       "</div>"
      ],
      "text/plain": [
       "           text     label\n",
       "text   1.000000  0.115108\n",
       "label  0.115108  1.000000"
      ]
     },
     "execution_count": 65,
     "metadata": {},
     "output_type": "execute_result"
    }
   ],
   "source": [
    "# For every value count, calculate the correlation with the label\n",
    "\n",
    "found_words_corr = pd.merge(found_words, train['label'], left_index=True, right_index=True)\n",
    "found_words_corr.corr()"
   ]
  },
  {
   "cell_type": "code",
   "execution_count": null,
   "metadata": {},
   "outputs": [
    {
     "data": {
      "text/html": [
       "<div>\n",
       "<style scoped>\n",
       "    .dataframe tbody tr th:only-of-type {\n",
       "        vertical-align: middle;\n",
       "    }\n",
       "\n",
       "    .dataframe tbody tr th {\n",
       "        vertical-align: top;\n",
       "    }\n",
       "\n",
       "    .dataframe thead th {\n",
       "        text-align: right;\n",
       "    }\n",
       "</style>\n",
       "<table border=\"1\" class=\"dataframe\">\n",
       "  <thead>\n",
       "    <tr style=\"text-align: right;\">\n",
       "      <th></th>\n",
       "      <th>us</th>\n",
       "      <th>they</th>\n",
       "      <th>must</th>\n",
       "      <th>help</th>\n",
       "    </tr>\n",
       "    <tr>\n",
       "      <th>par_id</th>\n",
       "      <th></th>\n",
       "      <th></th>\n",
       "      <th></th>\n",
       "      <th></th>\n",
       "    </tr>\n",
       "  </thead>\n",
       "  <tbody>\n",
       "    <tr>\n",
       "      <th>1</th>\n",
       "      <td>0</td>\n",
       "      <td>1</td>\n",
       "      <td>0</td>\n",
       "      <td>0</td>\n",
       "    </tr>\n",
       "    <tr>\n",
       "      <th>2</th>\n",
       "      <td>0</td>\n",
       "      <td>0</td>\n",
       "      <td>0</td>\n",
       "      <td>0</td>\n",
       "    </tr>\n",
       "    <tr>\n",
       "      <th>3</th>\n",
       "      <td>0</td>\n",
       "      <td>0</td>\n",
       "      <td>0</td>\n",
       "      <td>0</td>\n",
       "    </tr>\n",
       "    <tr>\n",
       "      <th>4</th>\n",
       "      <td>0</td>\n",
       "      <td>0</td>\n",
       "      <td>0</td>\n",
       "      <td>0</td>\n",
       "    </tr>\n",
       "    <tr>\n",
       "      <th>5</th>\n",
       "      <td>0</td>\n",
       "      <td>0</td>\n",
       "      <td>0</td>\n",
       "      <td>0</td>\n",
       "    </tr>\n",
       "    <tr>\n",
       "      <th>...</th>\n",
       "      <td>...</td>\n",
       "      <td>...</td>\n",
       "      <td>...</td>\n",
       "      <td>...</td>\n",
       "    </tr>\n",
       "    <tr>\n",
       "      <th>10465</th>\n",
       "      <td>0</td>\n",
       "      <td>0</td>\n",
       "      <td>0</td>\n",
       "      <td>0</td>\n",
       "    </tr>\n",
       "    <tr>\n",
       "      <th>10466</th>\n",
       "      <td>0</td>\n",
       "      <td>0</td>\n",
       "      <td>0</td>\n",
       "      <td>0</td>\n",
       "    </tr>\n",
       "    <tr>\n",
       "      <th>10467</th>\n",
       "      <td>0</td>\n",
       "      <td>0</td>\n",
       "      <td>0</td>\n",
       "      <td>1</td>\n",
       "    </tr>\n",
       "    <tr>\n",
       "      <th>10468</th>\n",
       "      <td>0</td>\n",
       "      <td>0</td>\n",
       "      <td>0</td>\n",
       "      <td>0</td>\n",
       "    </tr>\n",
       "    <tr>\n",
       "      <th>10469</th>\n",
       "      <td>0</td>\n",
       "      <td>0</td>\n",
       "      <td>0</td>\n",
       "      <td>0</td>\n",
       "    </tr>\n",
       "  </tbody>\n",
       "</table>\n",
       "<p>10469 rows × 4 columns</p>\n",
       "</div>"
      ],
      "text/plain": [
       "        us  they  must  help\n",
       "par_id                      \n",
       "1        0     1     0     0\n",
       "2        0     0     0     0\n",
       "3        0     0     0     0\n",
       "4        0     0     0     0\n",
       "5        0     0     0     0\n",
       "...     ..   ...   ...   ...\n",
       "10465    0     0     0     0\n",
       "10466    0     0     0     0\n",
       "10467    0     0     0     1\n",
       "10468    0     0     0     0\n",
       "10469    0     0     0     0\n",
       "\n",
       "[10469 rows x 4 columns]"
      ]
     },
     "execution_count": 55,
     "metadata": {},
     "output_type": "execute_result"
    }
   ],
   "source": [
    "# Compute the existance of words one by one in the text feature\n",
    "\n",
    "words = ['us', 'they', 'must', 'help']\n",
    "\n",
    "found_words = train['text'].fillna('').astype(str).apply(lambda x: [1 if re.search(r'\\b' + word + r'\\b', x) else 0 for word in words])\n",
    "\n",
    "found_words = pd.trainFrame(found_words.tolist(), columns=words, index=train.index)\n",
    "found_words"
   ]
  },
  {
   "cell_type": "code",
   "execution_count": null,
   "metadata": {},
   "outputs": [
    {
     "data": {
      "text/html": [
       "<div>\n",
       "<style scoped>\n",
       "    .dataframe tbody tr th:only-of-type {\n",
       "        vertical-align: middle;\n",
       "    }\n",
       "\n",
       "    .dataframe tbody tr th {\n",
       "        vertical-align: top;\n",
       "    }\n",
       "\n",
       "    .dataframe thead th {\n",
       "        text-align: right;\n",
       "    }\n",
       "</style>\n",
       "<table border=\"1\" class=\"dataframe\">\n",
       "  <thead>\n",
       "    <tr style=\"text-align: right;\">\n",
       "      <th></th>\n",
       "      <th>us</th>\n",
       "      <th>they</th>\n",
       "      <th>must</th>\n",
       "      <th>help</th>\n",
       "      <th>label</th>\n",
       "    </tr>\n",
       "  </thead>\n",
       "  <tbody>\n",
       "    <tr>\n",
       "      <th>us</th>\n",
       "      <td>1.000000</td>\n",
       "      <td>0.022985</td>\n",
       "      <td>0.021699</td>\n",
       "      <td>0.030836</td>\n",
       "      <td>0.065728</td>\n",
       "    </tr>\n",
       "    <tr>\n",
       "      <th>they</th>\n",
       "      <td>0.022985</td>\n",
       "      <td>1.000000</td>\n",
       "      <td>0.047210</td>\n",
       "      <td>0.038377</td>\n",
       "      <td>0.047467</td>\n",
       "    </tr>\n",
       "    <tr>\n",
       "      <th>must</th>\n",
       "      <td>0.021699</td>\n",
       "      <td>0.047210</td>\n",
       "      <td>1.000000</td>\n",
       "      <td>-0.004149</td>\n",
       "      <td>0.029243</td>\n",
       "    </tr>\n",
       "    <tr>\n",
       "      <th>help</th>\n",
       "      <td>0.030836</td>\n",
       "      <td>0.038377</td>\n",
       "      <td>-0.004149</td>\n",
       "      <td>1.000000</td>\n",
       "      <td>0.109097</td>\n",
       "    </tr>\n",
       "    <tr>\n",
       "      <th>label</th>\n",
       "      <td>0.065728</td>\n",
       "      <td>0.047467</td>\n",
       "      <td>0.029243</td>\n",
       "      <td>0.109097</td>\n",
       "      <td>1.000000</td>\n",
       "    </tr>\n",
       "  </tbody>\n",
       "</table>\n",
       "</div>"
      ],
      "text/plain": [
       "             us      they      must      help     label\n",
       "us     1.000000  0.022985  0.021699  0.030836  0.065728\n",
       "they   0.022985  1.000000  0.047210  0.038377  0.047467\n",
       "must   0.021699  0.047210  1.000000 -0.004149  0.029243\n",
       "help   0.030836  0.038377 -0.004149  1.000000  0.109097\n",
       "label  0.065728  0.047467  0.029243  0.109097  1.000000"
      ]
     },
     "execution_count": 56,
     "metadata": {},
     "output_type": "execute_result"
    }
   ],
   "source": [
    "joined = pd.merge(found_words, train['label'], left_index=True, right_index=True)\n",
    "\n",
    "joined.corr()"
   ]
  },
  {
   "cell_type": "markdown",
   "metadata": {},
   "source": [
    "NOT CORRELATED"
   ]
  },
  {
   "cell_type": "markdown",
   "metadata": {},
   "source": [
    "#### Country code"
   ]
  },
  {
   "cell_type": "code",
   "execution_count": 10,
   "metadata": {},
   "outputs": [
    {
     "data": {
      "text/html": [
       "<div>\n",
       "<style scoped>\n",
       "    .dataframe tbody tr th:only-of-type {\n",
       "        vertical-align: middle;\n",
       "    }\n",
       "\n",
       "    .dataframe tbody tr th {\n",
       "        vertical-align: top;\n",
       "    }\n",
       "\n",
       "    .dataframe thead th {\n",
       "        text-align: right;\n",
       "    }\n",
       "</style>\n",
       "<table border=\"1\" class=\"dataframe\">\n",
       "  <thead>\n",
       "    <tr style=\"text-align: right;\">\n",
       "      <th>label</th>\n",
       "      <th>0</th>\n",
       "      <th>1</th>\n",
       "      <th>correlation</th>\n",
       "    </tr>\n",
       "    <tr>\n",
       "      <th>country_code</th>\n",
       "      <th></th>\n",
       "      <th></th>\n",
       "      <th></th>\n",
       "    </tr>\n",
       "  </thead>\n",
       "  <tbody>\n",
       "    <tr>\n",
       "      <th>au</th>\n",
       "      <td>411</td>\n",
       "      <td>32</td>\n",
       "      <td>0.072235</td>\n",
       "    </tr>\n",
       "    <tr>\n",
       "      <th>bd</th>\n",
       "      <td>372</td>\n",
       "      <td>37</td>\n",
       "      <td>0.090465</td>\n",
       "    </tr>\n",
       "    <tr>\n",
       "      <th>ca</th>\n",
       "      <td>374</td>\n",
       "      <td>38</td>\n",
       "      <td>0.092233</td>\n",
       "    </tr>\n",
       "    <tr>\n",
       "      <th>gb</th>\n",
       "      <td>365</td>\n",
       "      <td>48</td>\n",
       "      <td>0.116223</td>\n",
       "    </tr>\n",
       "    <tr>\n",
       "      <th>gh</th>\n",
       "      <td>376</td>\n",
       "      <td>63</td>\n",
       "      <td>0.143508</td>\n",
       "    </tr>\n",
       "    <tr>\n",
       "      <th>hk</th>\n",
       "      <td>377</td>\n",
       "      <td>20</td>\n",
       "      <td>0.050378</td>\n",
       "    </tr>\n",
       "    <tr>\n",
       "      <th>ie</th>\n",
       "      <td>383</td>\n",
       "      <td>42</td>\n",
       "      <td>0.098824</td>\n",
       "    </tr>\n",
       "    <tr>\n",
       "      <th>in</th>\n",
       "      <td>394</td>\n",
       "      <td>32</td>\n",
       "      <td>0.075117</td>\n",
       "    </tr>\n",
       "    <tr>\n",
       "      <th>jm</th>\n",
       "      <td>339</td>\n",
       "      <td>47</td>\n",
       "      <td>0.121762</td>\n",
       "    </tr>\n",
       "    <tr>\n",
       "      <th>ke</th>\n",
       "      <td>393</td>\n",
       "      <td>32</td>\n",
       "      <td>0.075294</td>\n",
       "    </tr>\n",
       "    <tr>\n",
       "      <th>lk</th>\n",
       "      <td>379</td>\n",
       "      <td>40</td>\n",
       "      <td>0.095465</td>\n",
       "    </tr>\n",
       "    <tr>\n",
       "      <th>my</th>\n",
       "      <td>395</td>\n",
       "      <td>35</td>\n",
       "      <td>0.081395</td>\n",
       "    </tr>\n",
       "    <tr>\n",
       "      <th>ng</th>\n",
       "      <td>372</td>\n",
       "      <td>57</td>\n",
       "      <td>0.132867</td>\n",
       "    </tr>\n",
       "    <tr>\n",
       "      <th>nz</th>\n",
       "      <td>382</td>\n",
       "      <td>35</td>\n",
       "      <td>0.083933</td>\n",
       "    </tr>\n",
       "    <tr>\n",
       "      <th>ph</th>\n",
       "      <td>388</td>\n",
       "      <td>52</td>\n",
       "      <td>0.118182</td>\n",
       "    </tr>\n",
       "    <tr>\n",
       "      <th>pk</th>\n",
       "      <td>397</td>\n",
       "      <td>39</td>\n",
       "      <td>0.089450</td>\n",
       "    </tr>\n",
       "    <tr>\n",
       "      <th>sg</th>\n",
       "      <td>406</td>\n",
       "      <td>34</td>\n",
       "      <td>0.077273</td>\n",
       "    </tr>\n",
       "    <tr>\n",
       "      <th>tz</th>\n",
       "      <td>291</td>\n",
       "      <td>30</td>\n",
       "      <td>0.093458</td>\n",
       "    </tr>\n",
       "    <tr>\n",
       "      <th>us</th>\n",
       "      <td>395</td>\n",
       "      <td>34</td>\n",
       "      <td>0.079254</td>\n",
       "    </tr>\n",
       "    <tr>\n",
       "      <th>za</th>\n",
       "      <td>392</td>\n",
       "      <td>47</td>\n",
       "      <td>0.107062</td>\n",
       "    </tr>\n",
       "  </tbody>\n",
       "</table>\n",
       "</div>"
      ],
      "text/plain": [
       "label           0   1  correlation\n",
       "country_code                      \n",
       "au            411  32     0.072235\n",
       "bd            372  37     0.090465\n",
       "ca            374  38     0.092233\n",
       "gb            365  48     0.116223\n",
       "gh            376  63     0.143508\n",
       "hk            377  20     0.050378\n",
       "ie            383  42     0.098824\n",
       "in            394  32     0.075117\n",
       "jm            339  47     0.121762\n",
       "ke            393  32     0.075294\n",
       "lk            379  40     0.095465\n",
       "my            395  35     0.081395\n",
       "ng            372  57     0.132867\n",
       "nz            382  35     0.083933\n",
       "ph            388  52     0.118182\n",
       "pk            397  39     0.089450\n",
       "sg            406  34     0.077273\n",
       "tz            291  30     0.093458\n",
       "us            395  34     0.079254\n",
       "za            392  47     0.107062"
      ]
     },
     "execution_count": 10,
     "metadata": {},
     "output_type": "execute_result"
    }
   ],
   "source": [
    "# Calculate the correlation of each country in the column country code and the label\n",
    "\n",
    "countries = train.groupby(['country_code', 'label']).size().reset_index(name='count')\n",
    "countries_corr = countries.pivot(index='country_code', columns='label', values='count').fillna(0)\n",
    "countries_corr['correlation'] = countries_corr[1] / (countries_corr[0] + countries_corr[1])\n",
    "countries_corr\n",
    "\n"
   ]
  },
  {
   "cell_type": "markdown",
   "metadata": {},
   "source": []
  },
  {
   "cell_type": "markdown",
   "metadata": {},
   "source": [
    "## Qualitative Analysis"
   ]
  },
  {
   "cell_type": "markdown",
   "metadata": {},
   "source": [
    "First, we have to take into account that the trainset has been annotated by 3 expert annotatorss, with backgrounds in communication, media and train science. Two annotators\n",
    "annotated the whole trainset (ann1 and ann2), while the third one (ann3) acted as a referee to provide a final label in case of disagreements."
   ]
  },
  {
   "cell_type": "code",
   "execution_count": null,
   "metadata": {},
   "outputs": [
    {
     "data": {
      "text/plain": [
       "\"We 're living in times of absolute insanity , as I 'm pretty sure most people are aware . For a while , waking up every day to check the news seemed to carry with it the same feeling of panic and dread that action heroes probably face when they 're trying to decide whether to cut the blue or green wire on a ticking bomb -- except the bomb 's instructions long ago burned in a fire and imminent catastrophe seems the likeliest outcome . It 's hard to stay that on-edge for that long , though , so it 's natural for people to become inured to this constant chaos , to slump into a malaise of hopelessness and pessimism .\""
      ]
     },
     "execution_count": 72,
     "metadata": {},
     "output_type": "execute_result"
    }
   ],
   "source": [
    "train['text'][1]"
   ]
  },
  {
   "cell_type": "markdown",
   "metadata": {},
   "source": [
    "\"We 're living in times of absolute insanity , as I 'm pretty sure most people are aware . For a while , waking up every day to check the news seemed to carry with it the same feeling of panic and dread that action heroes probably face when they 're trying to decide whether to cut the blue or green wire on a ticking bomb -- except the bomb 's instructions long ago burned in a fire and imminent catastrophe seems the likeliest outcome . It 's hard to stay that on-edge for that long , though , so it 's natural for people to become inured to this constant chaos , to slump into a malaise of hopelessness and pessimism .\""
   ]
  },
  {
   "cell_type": "code",
   "execution_count": null,
   "metadata": {},
   "outputs": [
    {
     "data": {
      "text/plain": [
       "0"
      ]
     },
     "execution_count": 73,
     "metadata": {},
     "output_type": "execute_result"
    }
   ],
   "source": [
    "train['label'][1]"
   ]
  },
  {
   "cell_type": "code",
   "execution_count": null,
   "metadata": {},
   "outputs": [],
   "source": [
    "label1 = train[train['label'] == 1]\n",
    "label2 = train[train['label'] == 2]\n",
    "label3 = train[train['label'] == 3]"
   ]
  },
  {
   "cell_type": "code",
   "execution_count": null,
   "metadata": {},
   "outputs": [
    {
     "data": {
      "text/plain": [
       "'NUEVA ERA , Ilocos Norte - No family shall be homeless under the watch of the municipal government here , said town Mayor Aldrin Garvida .'"
      ]
     },
     "execution_count": 90,
     "metadata": {},
     "output_type": "execute_result"
    }
   ],
   "source": [
    "label1.iloc[0]['text']"
   ]
  },
  {
   "cell_type": "markdown",
   "metadata": {},
   "source": [
    "FOR\n",
    "\n",
    "Paternalistic Tone:\n",
    "The phrase \"under the watch of the municipal government\" can imply that the government (and by extension, the mayor) is assuming a parental role over the citizens. This language might be seen as suggesting that families are incapable of managing on their own without strict oversight.\n",
    "\n",
    "Overpromising Assurance:\n",
    "The declaration \"No family shall be homeless\" may be interpreted as an overly optimistic promise that oversimplifies the complex social issue of homelessness. This can come off as dismissive of the real challenges and systemic factors involved, potentially patronizing those who are affected.\n",
    "\n",
    "Implied Superiority:\n",
    "The wording can be viewed as positioning the mayor (and his administration) as the all-knowing protector, which might be perceived as a way to elevate their status above the citizens they serve. This tone can feel condescending to individuals who may see themselves as capable partners rather than passive recipients of charity or control.\n",
    "\n",
    "AGAINST\n",
    "\n",
    "Intent to Inspire Confidence:\n",
    "The statement may be intended to reassure the public by expressing a strong commitment to social welfare. Rather than patronizing, the language could be seen as a bold promise meant to inspire trust and unity among citizens.\n",
    "\n",
    "Contextual and Cultural Nuances:\n",
    "In many local or cultural contexts, it is common for public officials to use strong, declarative language to communicate their dedication to solving social issues. The phrase \"under the watch\" might be a culturally accepted way of expressing oversight and care, not necessarily intended to demean or belittle the audience.\n",
    "\n",
    "Policy-Driven Message:\n",
    "The language might simply reflect a policy position—a firm stance on eliminating homelessness. In this view, the wording is less about condescension and more about signaling a commitment to action, which can be appreciated by those seeking decisive leadership.\n",
    "\n",
    "Rhetorical Style:\n",
    "Political speeches and public statements often use dramatic language to capture attention. While such language can be interpreted in multiple ways, it doesn't automatically equate to condescension; it might instead be an effort to communicate a sense of urgency and responsibility"
   ]
  },
  {
   "cell_type": "code",
   "execution_count": null,
   "metadata": {},
   "outputs": [
    {
     "data": {
      "text/plain": [
       "'Arshad said that besides learning many new aspects of sports leadership he learnt how fast-developing nations were using sports as a tool of development and in this effort the disabled and the underprivileged were not left behind at any stage .'"
      ]
     },
     "execution_count": 93,
     "metadata": {},
     "output_type": "execute_result"
    }
   ],
   "source": [
    "label2.iloc[0]['text']"
   ]
  },
  {
   "cell_type": "markdown",
   "metadata": {},
   "source": [
    "Arshad said that besides learning many new aspects of sports leadership he learnt how fast-developing nations were using sports as a tool of development and in this effort the disabled and the underprivileged were not left behind at any stage ."
   ]
  },
  {
   "cell_type": "markdown",
   "metadata": {},
   "source": [
    "FOR\n",
    "\n",
    "Implied Deficit Perspective:\n",
    "By emphasizing that “the disabled and the underprivileged were not left behind,” the sentence can be read as if these groups are inherently at risk of being excluded. This may inadvertently reinforce a view of them as perpetually in need of rescue or special care rather than as active, capable participants.\n",
    "\n",
    "Paternalistic Tone:\n",
    "The language may suggest that it is up to “fast-developing nations” or those implementing these strategies to “save” or uplift these groups. Such a framing can come off as condescending, as it places the speaker or the advanced nations in a superior, almost guardian-like role over those deemed less fortunate.\n",
    "\n",
    "Othering Through Inclusion:\n",
    "Highlighting that the disabled and underprivileged must be explicitly “included” might imply that they are an exception to the norm. This could be interpreted as marginalizing them by suggesting they are fundamentally different or lesser than the mainstream population.\n",
    "\n",
    "AGAINST\n",
    "\n",
    "Recognition of Inclusivity Efforts:\n",
    "The sentence acknowledges that development efforts are intentionally inclusive. Recognizing that marginalized groups are part of these strategies can be seen as a positive, affirming gesture rather than a patronizing one.\n",
    "\n",
    "Empowerment Through Inclusion:\n",
    "Emphasizing that no one is “left behind” might be intended to empower and validate the contributions of all segments of society. It signals a commitment to ensuring equitable development, which is typically not meant to belittle anyone but rather to promote social justice.\n",
    "\n",
    "Factual and Observational Tone:\n",
    "The statement is a report of what Arshad learned about the practices in fast-developing nations. It comes off as an observational insight rather than an attempt to lecture or diminish any group, making it less likely to be intentionally patronizing.\n",
    "\n",
    "Context of Broader Development Narratives:\n",
    "In many discussions about social development, it is common to underscore the importance of including all demographics. The phrasing reflects a broader, well-accepted development narrative rather than a personal bias, suggesting that the language may be standard in policy discussions rather than a condescending remark."
   ]
  },
  {
   "cell_type": "code",
   "execution_count": null,
   "metadata": {},
   "outputs": [
    {
     "data": {
      "text/plain": [
       "'Fast food employee who fed disabled man becomes internet sensation'"
      ]
     },
     "execution_count": 92,
     "metadata": {},
     "output_type": "execute_result"
    }
   ],
   "source": [
    "label3.iloc[0]['text']"
   ]
  },
  {
   "cell_type": "markdown",
   "metadata": {},
   "source": [
    "FOR\n",
    "\n",
    "Reduction of Identity:\n",
    "The phrase \"disabled man\" reduces a person to a single aspect of his identity. This can be seen as emphasizing his disability in a way that reinforces stereotypes of vulnerability, rather than recognizing him as a full individual with diverse qualities.\n",
    "\n",
    "Exoticizing Everyday Kindness:\n",
    "By labeling the act as something that turned a \"fast food employee\" into an \"internet sensation,\" the headline may imply that such compassionate actions are rare or extraordinary simply because they involve someone from a lower-status occupation and a person with a disability. This could be read as patronizing—suggesting that acts of kindness are only newsworthy when they involve marginalized identities.\n",
    "\n",
    "Implicit Power Dynamics:\n",
    "The structure of the headline might unintentionally highlight a power imbalance. It frames the act as an exceptional benevolence by someone \"ordinary\" towards a \"disabled\" individual, potentially evoking a paternalistic narrative where the disabled person is seen as perpetually in need of rescue or charity.\n",
    "\n",
    "AGAINST\n",
    "\n",
    "Factual Reporting of a Viral Moment:\n",
    "The headline is a straightforward report on an event that went viral. It simply states the facts: a fast food employee performed a kind act, and this was widely recognized online. In this view, the headline does not add judgmental language but merely highlights a moment of human kindness.\n",
    "\n",
    "Celebration of Kindness Across Social Strata:\n",
    "The headline can be interpreted as celebrating a positive action that transcends social and economic boundaries. It acknowledges that good deeds can come from any individual—regardless of their job title—and that they have the power to create a positive impact, thereby promoting a message of inclusivity rather than condescension.\n",
    "\n",
    "Contextual Economy of Headlines:\n",
    "Headlines are often crafted to grab attention using concise descriptions. The terms used (like \"disabled man\") are factual identifiers in this context and not necessarily intended to diminish or objectify the person involved. The goal is to inform quickly rather than to impose a patronizing tone."
   ]
  }
 ],
 "metadata": {
  "kernelspec": {
   "display_name": "nlp",
   "language": "python",
   "name": "python3"
  },
  "language_info": {
   "codemirror_mode": {
    "name": "ipython",
    "version": 3
   },
   "file_extension": ".py",
   "mimetype": "text/x-python",
   "name": "python",
   "nbconvert_exporter": "python",
   "pygments_lexer": "ipython3",
   "version": "3.6.13"
  }
 },
 "nbformat": 4,
 "nbformat_minor": 2
}
